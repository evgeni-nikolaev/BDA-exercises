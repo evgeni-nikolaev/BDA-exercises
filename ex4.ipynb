{
 "cells": [
  {
   "cell_type": "markdown",
   "metadata": {},
   "source": [
    "# Baesyan Data Analysis Course - Chapter 4 Exercises\n",
    "https://github.com/avehtari/BDA_course_Aalto/tree/master/exercises\n",
    "\n",
    "### Exercise 1 - Bioassay Model\n",
    "\n",
    "In this exercise, you will use a dose-response relation model that is used in Section 3.7 of the course book and in the chapter reading instructions [here](https://github.com/avehtari/BDA_course_Aalto/blob/master/chapter_notes/BDA_notes_ch3.pdf). The used likelihood is the same, but instead of uniform priors, we will use a bivariate normal distribution as the joint prior distribution of the parameters $\\alpha$ and $\\beta$.\n",
    "\n",
    "**a)** In the prior distribution for $(\\alpha,\\beta)$, the marginal distributions are $\\alpha \\sim N(0,2^2)$ and $\\beta \\sim N(10,10^2)$, and the correlation between them is $\\mathrm{corr}(\\alpha, \\beta)=0.5$. Report the full mean and covariance of the bivariate normal distribution.\n",
    "\n",
    "**Answer:** The correlation relates to the covariance trough the equation $\\mathrm{corr}(\\alpha, \\beta) = \\dfrac{\\mathrm{cov}(\\alpha, \\beta)}{\\sigma_\\alpha\\sigma_\\beta}$, where $\\sigma_\\alpha$ and $\\sigma_\\beta$ are the std. deviations of $\\alpha$ and $\\beta$, respectively. This implies that:"
   ]
  },
  {
   "cell_type": "code",
   "execution_count": 44,
   "metadata": {},
   "outputs": [
    {
     "name": "stdout",
     "output_type": "stream",
     "text": [
      "cov(α, β) = 10.00\n"
     ]
    }
   ],
   "source": [
    "cor_αβ = 0.5\n",
    "σα = 2\n",
    "σβ = 10\n",
    "cov_αβ = cor_αβ*σα*σβ\n",
    "print(\"cov(α, β) = %.2f\"  %cov_αβ)\n",
    "Σ = np.array([[σα**2, cov_αβ],\n",
    "            [cov_αβ, σβ**2]])\n",
    "μ = [0, 10]"
   ]
  },
  {
   "cell_type": "markdown",
   "metadata": {},
   "source": [
    "Thus, $\\alpha, \\beta \\sim N(\\mathbf{\\mu}, \\Sigma)$, where\n",
    "$$\n",
    "\\mathbf{\\mu} = \\left[\\begin{array}{cc} \n",
    "0 \\\\10 \n",
    "\\end{array}\\right] , \\quad\n",
    "\\Sigma = \\left[\\begin{array}{cc} \n",
    "2^2 & 10\\\\\n",
    "10 & 10^2\n",
    "\\end{array}\\right]\n",
    "$$"
   ]
  },
  {
   "cell_type": "markdown",
   "metadata": {},
   "source": [
    "**b)** You are given 4000 independent draws from the posterior distribution\n",
    "of the model. Load the draws with from *bioassay\\_posterior*. Report the mean as well as 5 $\\%$ and 95 $\\%$\n",
    "quantiles separately for both $\\alpha$ and $\\beta$. Report also the\n",
    "Monte Carlo standard errors (MCSEs) for the mean and quantile estimates.\n",
    "Report as many digits for the mean and\n",
    "quantiles as the MCSEs allow. In other words, leave out digits where\n",
    "MCSE is nonzero (Example: if posterior mean is 2.345678 and MCSE is 0.0012345, report two digits after the decimal sign, taking into account the usual rounding rule, so you would report 2.35. Further digits do not contain useful information due to the Monte Carlo uncertainty.).\n"
   ]
  },
  {
   "cell_type": "code",
   "execution_count": 1,
   "metadata": {},
   "outputs": [],
   "source": [
    "import pandas as pd\n",
    "import numpy as np\n",
    "import matplotlib.pyplot as plt\n",
    "from scipy.stats import beta\n",
    "\n",
    "posterior_draws = pd.read_csv('Data//bioassay_posterior.txt', sep=\"\\t\", header=None)\n",
    "posterior_draws.columns = [\"α\", \"β\"]"
   ]
  },
  {
   "cell_type": "code",
   "execution_count": 123,
   "metadata": {},
   "outputs": [
    {
     "data": {
      "text/html": [
       "<div>\n",
       "<style scoped>\n",
       "    .dataframe tbody tr th:only-of-type {\n",
       "        vertical-align: middle;\n",
       "    }\n",
       "\n",
       "    .dataframe tbody tr th {\n",
       "        vertical-align: top;\n",
       "    }\n",
       "\n",
       "    .dataframe thead th {\n",
       "        text-align: right;\n",
       "    }\n",
       "</style>\n",
       "<table border=\"1\" class=\"dataframe\">\n",
       "  <thead>\n",
       "    <tr style=\"text-align: right;\">\n",
       "      <th></th>\n",
       "      <th>α</th>\n",
       "      <th>β</th>\n",
       "    </tr>\n",
       "  </thead>\n",
       "  <tbody>\n",
       "    <tr>\n",
       "      <th>q95</th>\n",
       "      <td>21.223498</td>\n",
       "      <td>21.223498</td>\n",
       "    </tr>\n",
       "    <tr>\n",
       "      <th>mean</th>\n",
       "      <td>0.985226</td>\n",
       "      <td>10.596481</td>\n",
       "    </tr>\n",
       "    <tr>\n",
       "      <th>q05</th>\n",
       "      <td>3.338925</td>\n",
       "      <td>3.338925</td>\n",
       "    </tr>\n",
       "  </tbody>\n",
       "</table>\n",
       "</div>"
      ],
      "text/plain": [
       "              α          β\n",
       "q95   21.223498  21.223498\n",
       "mean   0.985226  10.596481\n",
       "q05    3.338925   3.338925"
      ]
     },
     "execution_count": 123,
     "metadata": {},
     "output_type": "execute_result"
    }
   ],
   "source": [
    "posterior_summaries = pd.DataFrame(index = [\"q95\", \"mean\", \"q05\"], columns = posterior_draws.columns)\n",
    "for col in posterior_draws.columns:\n",
    "    q95 = np.quantile(a = posterior_draws[col], q = 0.95)\n",
    "    q05 = np.quantile(a = posterior_draws[col], q = 0.05)\n",
    "    mean = np.mean(posterior_draws[col])\n",
    "    posterior_summaries[col] = [q975, mean, q025]\n",
    "\n",
    "posterior_summaries"
   ]
  },
  {
   "cell_type": "code",
   "execution_count": 124,
   "metadata": {},
   "outputs": [
    {
     "data": {
      "text/html": [
       "<div>\n",
       "<style scoped>\n",
       "    .dataframe tbody tr th:only-of-type {\n",
       "        vertical-align: middle;\n",
       "    }\n",
       "\n",
       "    .dataframe tbody tr th {\n",
       "        vertical-align: top;\n",
       "    }\n",
       "\n",
       "    .dataframe thead th {\n",
       "        text-align: right;\n",
       "    }\n",
       "</style>\n",
       "<table border=\"1\" class=\"dataframe\">\n",
       "  <thead>\n",
       "    <tr style=\"text-align: right;\">\n",
       "      <th></th>\n",
       "      <th>α</th>\n",
       "      <th>β</th>\n",
       "    </tr>\n",
       "  </thead>\n",
       "  <tbody>\n",
       "    <tr>\n",
       "      <th>q95</th>\n",
       "      <td>0.042242</td>\n",
       "      <td>0.238241</td>\n",
       "    </tr>\n",
       "    <tr>\n",
       "      <th>mean</th>\n",
       "      <td>0.014822</td>\n",
       "      <td>0.075591</td>\n",
       "    </tr>\n",
       "    <tr>\n",
       "      <th>q05</th>\n",
       "      <td>0.026073</td>\n",
       "      <td>0.071125</td>\n",
       "    </tr>\n",
       "  </tbody>\n",
       "</table>\n",
       "</div>"
      ],
      "text/plain": [
       "             α         β\n",
       "q95   0.042242  0.238241\n",
       "mean  0.014822  0.075591\n",
       "q05   0.026073  0.071125"
      ]
     },
     "execution_count": 124,
     "metadata": {},
     "output_type": "execute_result"
    }
   ],
   "source": [
    "MCSE_summaries = pd.DataFrame(index = [\"q95\", \"mean\", \"q05\"], columns = posterior_draws.columns)\n",
    "def MCSE(draws, prob):\n",
    "    S = len(draws)\n",
    "    p = [0.1586553, 0.8413447, 0.05, 0.95]\n",
    "    a = beta.ppf(p, S * prob + 1, S * (1 - prob) + 1)\n",
    "    sdraws = np.sort(draws)\n",
    "    th1 = sdraws[int(max(np.round(a[0]*S), 1))]\n",
    "    th2 = sdraws[int(min(np.round(a[1]*S), S))]\n",
    "    return (th2 - th1) / 2\n",
    "for col in posterior_draws.columns:\n",
    "    MCSE_summaries[col] = [MCSE(posterior_draws[col], 0.95), np.sqrt(np.var(posterior_draws[col])/len(posterior_draws[col])),\n",
    "                           MCSE(posterior_draws[col], 0.05)]\n",
    "MCSE_summaries"
   ]
  },
  {
   "cell_type": "markdown",
   "metadata": {},
   "source": [
    "The results are summarized in the following table:\n",
    "\n",
    "|   a  | q95 | mean | q05 |\n",
    "|  ---  | --- | --- | --- |\n",
    "|$\\alpha$| 21.2 | 1.0 | 3.3 |\n",
    "|MCSE| (0.042242) | (0.014822) | (0.026073) |\n",
    "|$\\beta$| 21 | 10.6 | 3.3 |\n",
    "|   MCSE  | (0.238241)| (0.075591) | (0.071125) |\n"
   ]
  },
  {
   "cell_type": "markdown",
   "metadata": {},
   "source": [
    "## Importance sampling\n",
    "Now we discard our posterior draws and switch to importance sampling.\n",
    "\n",
    "**c)** Implement a function for computing the log importance ratios (log importance weights) when the importance sampling **target distribution** is the posterior distribution, and the **proposal distribution** is the prior distribution from **a)**.\n",
    "\n",
    "**Answer:** First, load and look at the data."
   ]
  },
  {
   "cell_type": "code",
   "execution_count": 30,
   "metadata": {},
   "outputs": [
    {
     "data": {
      "text/html": [
       "<div>\n",
       "<style scoped>\n",
       "    .dataframe tbody tr th:only-of-type {\n",
       "        vertical-align: middle;\n",
       "    }\n",
       "\n",
       "    .dataframe tbody tr th {\n",
       "        vertical-align: top;\n",
       "    }\n",
       "\n",
       "    .dataframe thead th {\n",
       "        text-align: right;\n",
       "    }\n",
       "</style>\n",
       "<table border=\"1\" class=\"dataframe\">\n",
       "  <thead>\n",
       "    <tr style=\"text-align: right;\">\n",
       "      <th></th>\n",
       "      <th>x</th>\n",
       "      <th>n</th>\n",
       "      <th>y</th>\n",
       "    </tr>\n",
       "  </thead>\n",
       "  <tbody>\n",
       "    <tr>\n",
       "      <th>0</th>\n",
       "      <td>-0.86</td>\n",
       "      <td>5</td>\n",
       "      <td>0</td>\n",
       "    </tr>\n",
       "    <tr>\n",
       "      <th>1</th>\n",
       "      <td>-0.30</td>\n",
       "      <td>5</td>\n",
       "      <td>1</td>\n",
       "    </tr>\n",
       "    <tr>\n",
       "      <th>2</th>\n",
       "      <td>-0.05</td>\n",
       "      <td>5</td>\n",
       "      <td>3</td>\n",
       "    </tr>\n",
       "    <tr>\n",
       "      <th>3</th>\n",
       "      <td>0.73</td>\n",
       "      <td>5</td>\n",
       "      <td>5</td>\n",
       "    </tr>\n",
       "  </tbody>\n",
       "</table>\n",
       "</div>"
      ],
      "text/plain": [
       "      x  n  y\n",
       "0 -0.86  5  0\n",
       "1 -0.30  5  1\n",
       "2 -0.05  5  3\n",
       "3  0.73  5  5"
      ]
     },
     "execution_count": 30,
     "metadata": {},
     "output_type": "execute_result"
    }
   ],
   "source": [
    "dat = pd.read_csv('Data//bioassay.txt', sep=\" \")\n",
    "dat"
   ]
  },
  {
   "cell_type": "markdown",
   "metadata": {},
   "source": [
    "The importance ratio is given by\n",
    "\n",
    "$$w(\\alpha^s, \\beta^s) = \\dfrac{q(\\alpha^s, \\beta^s|y)}{g(\\alpha^s, \\beta^s)}$$\n",
    "\n",
    "where $g(.)$ is the proposal distribution, and $q(.)$ is the target distribution. Denoting $p(\\alpha, \\beta)$ as the joint prior, it follows that $g(\\alpha, \\beta)$ = $p(\\alpha, \\beta)$. And since $q(.)$ is proportional to the posterior distribution, it follows that $q(\\alpha, \\beta|y) = p(\\alpha, \\beta)p(y|\\alpha, \\beta) = g(\\alpha, \\beta)p(y|\\alpha, \\beta)$. Thus, the importance ratio reduces to the likelihood:\n",
    "\n",
    "$$w(\\alpha^s, \\beta^s) = \\dfrac{q(\\alpha^s, \\beta^s|y)}{g(\\alpha^s, \\beta^s)} =  \\dfrac{g(\\alpha, \\beta)p(y|\\alpha, \\beta)}{g(\\alpha^s, \\beta^s)} =  p(y|\\alpha, \\beta)$$"
   ]
  },
  {
   "cell_type": "code",
   "execution_count": 225,
   "metadata": {},
   "outputs": [],
   "source": [
    "from scipy.stats import multivariate_normal as mvn\n",
    "from scipy.special import binom\n",
    "\n",
    "def sigmoid(x):\n",
    "    return 1/(1+np.exp(-1*np.array(x)))\n",
    "\n",
    "def bio_log_likelihood(α, β):\n",
    "    z = sigmoid(α + β*dat['x'])\n",
    "    eps = 1e-12\n",
    "    z = np.array([min(z[i], 1 - eps) for i in range(len(z))])\n",
    "    z = np.array([max(z[i], eps) for i in range(len(z))])\n",
    "    return dat['y']@np.log(z) + (dat['n']-dat['y'])@np.log((1-z))\n",
    "\n",
    "def prior(α, β):\n",
    "    return mvn.pdf([α, β],mean=μ, cov=Σ)\n",
    "    \n",
    "def log_importance_weights(α, β):\n",
    "    if type(α) == int or type(α) == float:\n",
    "        α = [α]\n",
    "        β = [β]\n",
    "    return [np.log(prior(α[i], β[i]))*bio_log_likelihood(α[i], β[i])/np.log(mvn.pdf([α[i], β[i]],mean=μ, cov=Σ)) \n",
    "            for i in range(len(α))]"
   ]
  },
  {
   "cell_type": "code",
   "execution_count": 226,
   "metadata": {},
   "outputs": [],
   "source": [
    "alpha_test = [1.896, -3.6, 0.374, 0.964, -3.123, -1.581]\n",
    "beta_test = [24.76, 20.04, 6.15, 18.65, 8.16, 17.4]"
   ]
  },
  {
   "cell_type": "code",
   "execution_count": 227,
   "metadata": {
    "scrolled": true
   },
   "outputs": [
    {
     "data": {
      "text/plain": [
       "array([ -8.95, -23.47,  -6.02,  -8.13, -16.61, -14.57])"
      ]
     },
     "execution_count": 227,
     "metadata": {},
     "output_type": "execute_result"
    }
   ],
   "source": [
    "# results for test matching the solution given in the exercise\n",
    "np.round(log_importance_weights(alpha_test, beta_test), 2)"
   ]
  },
  {
   "cell_type": "markdown",
   "metadata": {},
   "source": [
    "**d)** Implement a function for computing normalized importance ratios\n",
    "from the unnormalized log ratios in **c)**. In other words, exponentiate\n",
    "the log ratios and scale them such that they sum to one."
   ]
  },
  {
   "cell_type": "code",
   "execution_count": 228,
   "metadata": {},
   "outputs": [],
   "source": [
    "def nomalized_importance_weights(α, β):\n",
    "    unmormalized = np.exp(log_importance_weights(α, β))\n",
    "    return unmormalized / sum(unmormalized)"
   ]
  },
  {
   "cell_type": "code",
   "execution_count": 229,
   "metadata": {},
   "outputs": [
    {
     "data": {
      "text/plain": [
       "array([0.045, 0.   , 0.852, 0.103, 0.   , 0.   ])"
      ]
     },
     "execution_count": 229,
     "metadata": {},
     "output_type": "execute_result"
    }
   ],
   "source": [
    "# results for test matching the solution given in the exercise\n",
    "np.round(nomalized_importance_weights(alpha_test, beta_test), 3)"
   ]
  },
  {
   "cell_type": "markdown",
   "metadata": {},
   "source": [
    "**e)**  Sample 4000 draws of $\\alpha$ and $\\beta$ from the prior distribution from a). Compute and plot a histogram of the 4000 normalized importance ratios. Use the functions you implemented in c) and d)."
   ]
  },
  {
   "cell_type": "code",
   "execution_count": 273,
   "metadata": {},
   "outputs": [],
   "source": [
    "prior_samples = mvn.rvs(mean = μ, cov = Σ, size = 4000)\n",
    "α_sim, β_sim = prior_samples[:, 0], prior_samples[:, 1]\n",
    "importance_ratios = nomalized_importance_weights(α_sim, β_sim)\n",
    "unormalized = np.exp(log_importance_weights(α_sim, β_sim))"
   ]
  },
  {
   "cell_type": "code",
   "execution_count": 277,
   "metadata": {},
   "outputs": [
    {
     "data": {
      "image/png": "[encoded data removed]",
      "text/plain": [
       "<Figure size 864x432 with 2 Axes>"
      ]
     },
     "metadata": {
      "needs_background": "light"
     },
     "output_type": "display_data"
    }
   ],
   "source": [
    "fig, axes = plt.subplots(ncols = 2, figsize = (12,6))\n",
    "axes[0].hist(importance_ratios, bins = 100)\n",
    "axes[0].set_title(\"Histogram of 4000 normalized importance ratios\")\n",
    "axes[1].hist(np.log(unormalized), bins = 100)\n",
    "axes[1].set_title(\"Log Unormalized\")\n",
    "plt.show()"
   ]
  },
  {
   "cell_type": "markdown",
   "metadata": {},
   "source": [
    "**f)** Using the importance ratios, compute the importance sampling effective sample size $S_{\\text{eff}}$ and report it.\n",
    "\n",
    "**Answer:** The effective sample size can be approximated by\n",
    "\n",
    "$$S_{\\text{eff}} = \\dfrac{1}{\\sum_{s=1}^S (\\tilde{w}(\\theta^s))^2}$$\n",
    "\n",
    "where $\\tilde{w}(\\theta^s)$ are the normalized weights."
   ]
  },
  {
   "cell_type": "code",
   "execution_count": 268,
   "metadata": {},
   "outputs": [],
   "source": [
    "def S_eff(α_sim, β_sim):\n",
    "    return 1/sum((nomalized_importance_weights(α_sim, β_sim))**2)"
   ]
  },
  {
   "cell_type": "code",
   "execution_count": 313,
   "metadata": {},
   "outputs": [
    {
     "name": "stdout",
     "output_type": "stream",
     "text": [
      "The importance sampling effect sample size is 1078.33\n"
     ]
    }
   ],
   "source": [
    "S_eff_sim = S_eff(α_sim, β_sim)\n",
    "print(\"The importance sampling effect sample size is %.2f\" %S_eff_sim)"
   ]
  },
  {
   "cell_type": "markdown",
   "metadata": {},
   "source": [
    "**g)** Explain in your own words what the importance sampling effective\n",
    " sample size represents. Also explain how the effective sample size is seen\n",
    " in the histogram of the weights that you plotted in e).\n",
    " \n",
    " **Answer:** It relates to the actual number of samples, $S$, taken from the proposal distribution. The better is the approximation of this proposal distribution to the target, the higher will be the effective sample size (up to $S$). The histogram helps to visualize possible problems in the importance sampling, more specifically, it is desirable that there are a lot of samples with high importance, and few with low importance, which would indicate a good match between proposal and target. In the present case, the histogram shows that there is a high probability of fiding low importance ratios, and this probability gets lower as the importance gets higher. For this reason, the effect sample size is rought $1/4$ of $S$."
   ]
  },
  {
   "cell_type": "markdown",
   "metadata": {},
   "source": [
    "**h)** Implement a function for computing the posterior mean using importance sampling, and compute the mean using your 4000 draws.\n",
    " Report the means for alpha and beta, and also the Monte Carlo standard errors (MCSEs) for the mean estimates.\n",
    " Report the number of digits for the means based on the MCSEs.\n",
    " \n",
    " **Answer:** We want to compute the posterior mean of $\\alpha, \\beta|y$. define $\\theta = (\\alpha, \\beta)$. From equations (10.2) and (10.3) of BDA page 265, it follows that an estimate for the posterior mean is\n",
    " \n",
    " $$\\tilde{E}[\\theta^s | y] = \\dfrac{\\frac{1}{S}\\sum_{s=1}^S \\theta^s \\times w(\\theta^s)}{\\frac{1}{S}\\sum_{s=1}^Sw(\\theta^s)}$$\n",
    " \n",
    "where $\\theta^s$ are draws from the proposal distribution, $S$ is the total number of samples, and $w(\\theta^s$ is the importance ratio. Using the normalized importance ratio, $\\tilde{w}(\\theta^s)$, it follows that \n",
    "\n",
    " $$\\tilde{E}[\\theta^s | y] = \\sum_{s=1}^S [\\tilde{w}(\\theta^s) \\times \\theta^s]$$"
   ]
  },
  {
   "cell_type": "code",
   "execution_count": 304,
   "metadata": {},
   "outputs": [],
   "source": [
    "def posterior_mean(α, β):\n",
    "    a = nomalized_importance_weights(α, β)@np.array(α)\n",
    "    b = nomalized_importance_weights(α, β)@np.array(β)\n",
    "    return np.array([a, b])"
   ]
  },
  {
   "cell_type": "code",
   "execution_count": 340,
   "metadata": {},
   "outputs": [
    {
     "name": "stdout",
     "output_type": "stream",
     "text": [
      "posterior mean using importance sample: [ 0.97099794 10.3353413 ]\n"
     ]
    }
   ],
   "source": [
    "post_mean = posterior_mean(α_sim, β_sim)\n",
    "print(\"posterior mean using importance sample:\", post_mean)"
   ]
  },
  {
   "cell_type": "markdown",
   "metadata": {},
   "source": [
    "To calculate the MCSE, the effective sample size is used. Using $Var(\\theta) = E(\\theta^2) - E(\\theta)^2$, it follows that:\n",
    "\n",
    "$$MCSE_{E[\\theta]} = \\sqrt{\\dfrac{Var(\\theta)}{S_{\\text{eff}}}}$$"
   ]
  },
  {
   "cell_type": "code",
   "execution_count": 341,
   "metadata": {
    "scrolled": true
   },
   "outputs": [
    {
     "name": "stdout",
     "output_type": "stream",
     "text": [
      "The MCSE for the posterior mean is [0.02757961 0.14064245]\n"
     ]
    }
   ],
   "source": [
    "post_sqr_mean = [nomalized_importance_weights(α_sim, β_sim)@np.array(α_sim**2), \n",
    "                nomalized_importance_weights(α_sim, β_sim)@np.array(β_sim**2)]\n",
    "MCSE_E = np.sqrt( (post_sqr_mean - post_mean**2) / S_eff_sim)\n",
    "print(\"The MCSE for the posterior mean is\", MCSE_E)"
   ]
  },
  {
   "cell_type": "markdown",
   "metadata": {},
   "source": [
    "The results are summarized in the following table:\n",
    "\n",
    "|       | $\\alpha$  | $\\beta$ |\n",
    "|  ---  | ---       | ---     |\n",
    "|  mean | 1.0       | 10      |\n",
    "| MCSE  |0.02757961 |0.14064245| \n"
   ]
  }
 ],
 "metadata": {
  "kernelspec": {
   "display_name": "Python 3",
   "language": "python",
   "name": "python3"
  },
  "language_info": {
   "codemirror_mode": {
    "name": "ipython",
    "version": 3
   },
   "file_extension": ".py",
   "mimetype": "text/x-python",
   "name": "python",
   "nbconvert_exporter": "python",
   "pygments_lexer": "ipython3",
   "version": "3.8.3"
  }
 },
 "nbformat": 4,
 "nbformat_minor": 4
}
