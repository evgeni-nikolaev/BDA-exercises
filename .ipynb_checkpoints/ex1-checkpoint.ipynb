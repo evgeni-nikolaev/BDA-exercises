{
 "cells": [
  {
   "cell_type": "markdown",
   "metadata": {},
   "source": [
    "**Exercise 1 (Basic probability theory notation and terms).* This can be trivial or you may need to refresh your memory on these concepts. Note that some terms may be different names for the same concept. Explain each of the following terms with one sentence:\n",
    "\n",
    "* **probability:** a function with image ranging from 0 to 1\n",
    "* **probability mass:** the probability of a discrete random variable taking a specified value  \n",
    "* **probability density:** \n",
    "* **probability mass function (pmf):** a function that takes as input a value that may be assumed by a discrete random variable, and returns the probability of this given value\n",
    "* **probability density function (pdf):** defines a distribution of a continuos random variable, and its integral gives the probability of the random variable being in the interval in which the integral is being calculated; the values in it's image may be interprested as the relative likehood that the random variable would equal the corresponding input\n",
    "* **probability distribution:** carachterises a random variable by the likelihood of it's possible realizations\n",
    "* **discrete probability distribution:** a probability distribution of a random variable defined in a sample space of integers\n",
    "* **continuous probability distribution:** similarly, when the random variable may assumed real numbers, and not only integers\n",
    "* **cumulative distribution function (cdf):** the sum (discrete case) or integral (continuos case) of the mass function of density function, respectivle; it's domain is the possible values that the random variable may or may not assume, and it's image is the correspoding probability of the random variable being less or equal to the input value\n",
    "* **likelihood:** a relative measure of how likely it is to observe a given event; it's usually seen in the form $p(y|\\theta)$, where $y$ is fixed and $\\theta$ varies\n",
    "\n",
    "\n",
    "**Exercise 2 (Basic computer skills).** This task deals with elementary plotting and computing skills needed during the rest of the course. For more about Python, see the docs (\\href{https://docs.python.org/3/}{https://docs.python.org/3/})\n",
    "\n",
    "\n",
    "* Plot the density function of Beta-distribution, with mean $\\mu = 0.2$ and variance $\\sigma^2=0.01$. The parameters $\\alpha$ and $\\beta$ of the Beta-distribution are related to the mean and variance according to the following equations\n",
    "    \\begin{align*}\n",
    "    \\alpha = \\mu \\left( \\frac{\\mu(1-\\mu)}{\\sigma^2} - 1 \\right), \\quad\n",
    "    \\beta = \\frac{\\alpha (1-\\mu) }{\\mu} \\,.\n",
    "\\end{align*}\n",
    "Useful Python functions: *numpy.arange* and *scipy.stats.beta.pdf*\n"
   ]
  },
  {
   "cell_type": "code",
   "execution_count": 2,
   "metadata": {},
   "outputs": [
    {
     "ename": "ModuleNotFoundError",
     "evalue": "No module named 'scipy'",
     "output_type": "error",
     "traceback": [
      "\u001b[1;31m---------------------------------------------------------------------------\u001b[0m",
      "\u001b[1;31mModuleNotFoundError\u001b[0m                       Traceback (most recent call last)",
      "\u001b[1;32m<ipython-input-2-e6203c1223f9>\u001b[0m in \u001b[0;36m<module>\u001b[1;34m\u001b[0m\n\u001b[1;32m----> 1\u001b[1;33m \u001b[1;32mfrom\u001b[0m \u001b[0mscipy\u001b[0m\u001b[1;33m.\u001b[0m\u001b[0mstats\u001b[0m \u001b[1;32mimport\u001b[0m \u001b[0mbeta\u001b[0m\u001b[1;33m\u001b[0m\u001b[1;33m\u001b[0m\u001b[0m\n\u001b[0m",
      "\u001b[1;31mModuleNotFoundError\u001b[0m: No module named 'scipy'"
     ]
    }
   ],
   "source": [
    "import numpy as np\n",
    "from scipy.stats import beta"
   ]
  }
 ],
 "metadata": {
  "kernelspec": {
   "display_name": "Python 3",
   "language": "python",
   "name": "python3"
  },
  "language_info": {
   "codemirror_mode": {
    "name": "ipython",
    "version": 3
   },
   "file_extension": ".py",
   "mimetype": "text/x-python",
   "name": "python",
   "nbconvert_exporter": "python",
   "pygments_lexer": "ipython3",
   "version": "3.8.3"
  }
 },
 "nbformat": 4,
 "nbformat_minor": 4
}
