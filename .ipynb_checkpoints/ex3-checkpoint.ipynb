{
 "cells": [
  {
   "cell_type": "markdown",
   "metadata": {},
   "source": [
    "# Baesyan Data Analysis Course - Chapter 2 Exercises\n",
    "https://github.com/avehtari/BDA_course_Aalto/tree/master/exercises\n",
    "\n",
    "### Exercise 1 - Inference for normal mean and deviation \n",
    "\n",
    "A factory has a production line for manufacturing car windshields. A sample of windshields has been taken for testing hardness (sample of observed values available in file windshields1.txt). We may assume that the observations follow a normal distribution with an unknown standard deviation $\\sigma$. We wish to obtain information about the unknown average hardness $\\mu$. Here it is not necessary to derive the posterior distribution as it has already been done in the book.\n",
    "\n",
    "#### Formulate (1) model likelihood, (2) the prior, and (3) the resulting posterior:\n",
    "\n",
    "**Answer:** \n",
    "\n",
    "Model:\n",
    "\n",
    "$$y_i|\\mu, \\sigma^2 \\propto \\dfrac{1}{\\sigma^2}\\times exp\\left[\\dfrac{-(y_i-\\mu)^2}{2\\sigma^2}\\right]$$\n",
    "\n",
    "Likelihood:\n",
    "\n",
    "$$p(y|\\mu, \\sigma^2) = \\prod_{i = 1}^n p(y_i|\\mu, \\sigma^2)$$\n",
    "\n",
    "Non-informative prior:\n",
    "\n",
    "$$p(\\mu, \\sigma) \\propto (\\sigma^2)^{-1}$$\n",
    "\n",
    "Joint posterior:\n",
    "\n",
    "$$p(\\mu, \\sigma^2|y) \\propto \\sigma^{-n-2} \\times exp\\left\\{\\dfrac{-1}{2\\sigma^2}[(n-1)s^2 + n(\\bar{y} - \\mu)^2]\\right\\}$$\n",
    "\n",
    "where $s^2 = \\dfrac{1}{n-1}\\sum_{i=1}^n(y_i - \\bar{y})^2$.\n",
    "\n",
    "#### What can you say about the unknown $\\mu$? Summarize your results using Bayesian point estimate (i.e. $E(\\mu|y)$), a posterior interval (95\\%), and plot the density.\n"
   ]
  },
  {
   "cell_type": "code",
   "execution_count": 12,
   "metadata": {},
   "outputs": [],
   "source": [
    "import pandas as pd\n",
    "import numpy as np\n",
    "import matplotlib.pyplot as plt\n",
    "from scipy.stats import norm\n",
    "from scipy.stats import t\n",
    "\n",
    "ws1 = pd.read_csv('Data//windshieldy1.txt', sep=\" \", header=None)\n",
    "ws_test = [13.357, 14.928, 14.896, 14.820]"
   ]
  },
  {
   "cell_type": "code",
   "execution_count": 7,
   "metadata": {},
   "outputs": [],
   "source": [
    "a = np.mean(ws_data)"
   ]
  },
  {
   "cell_type": "code",
   "execution_count": 13,
   "metadata": {},
   "outputs": [],
   "source": [
    "y_mean = np.mean(ws_data)\n",
    "n = len(ws_data)\n",
    "s_sqr = 1/(n - 1)*sum((ws_data-y_mean)**2)"
   ]
  },
  {
   "cell_type": "code",
   "execution_count": 22,
   "metadata": {},
   "outputs": [
    {
     "data": {
      "text/plain": [
       "14.036448563088456"
      ]
     },
     "execution_count": 22,
     "metadata": {},
     "output_type": "execute_result"
    }
   ],
   "source": [
    "prob = 0.95\n",
    "t.ppf(0.025, df = n-1, loc = y_mean, scale = s_sqr/n)"
   ]
  },
  {
   "cell_type": "code",
   "execution_count": null,
   "metadata": {},
   "outputs": [],
   "source": []
  },
  {
   "cell_type": "code",
   "execution_count": null,
   "metadata": {},
   "outputs": [],
   "source": [
    "def mu_point_est(ws_data):\n",
    "    return(np.mean(ws_data))\n",
    "\n",
    "def mu_interval(ws_data, prob):\n",
    "    y_mean = np.mean(ws_data)\n",
    "    n = len(ws_data)\n",
    "    s_sqr = 1/(n - 1)*sum((ws_data-y_mean)**2)\n",
    "    t.interval(prob, df = n-1, loc = y_mean, scale = s_sqr/n)\n",
    "    "
   ]
  }
 ],
 "metadata": {
  "kernelspec": {
   "display_name": "Python 3",
   "language": "python",
   "name": "python3"
  },
  "language_info": {
   "codemirror_mode": {
    "name": "ipython",
    "version": 3
   },
   "file_extension": ".py",
   "mimetype": "text/x-python",
   "name": "python",
   "nbconvert_exporter": "python",
   "pygments_lexer": "ipython3",
   "version": "3.8.3"
  }
 },
 "nbformat": 4,
 "nbformat_minor": 4
}
