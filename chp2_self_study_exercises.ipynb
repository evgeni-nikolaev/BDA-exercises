{
 "cells": [
  {
   "cell_type": "markdown",
   "metadata": {},
   "source": [
    "# Baesyan Data Analysis - Chapter 2 Self Study Exercises\n"
   ]
  },
  {
   "cell_type": "markdown",
   "metadata": {},
   "source": [
    "### Exercise 2.13: Falta accidents deaths on schedualed ariline flights (Poisson model)\n",
    "Consider the following dataset:"
   ]
  },
  {
   "cell_type": "code",
   "execution_count": 3,
   "metadata": {
    "scrolled": true
   },
   "outputs": [
    {
     "data": {
      "text/html": [
       "<div>\n",
       "<style scoped>\n",
       "    .dataframe tbody tr th:only-of-type {\n",
       "        vertical-align: middle;\n",
       "    }\n",
       "\n",
       "    .dataframe tbody tr th {\n",
       "        vertical-align: top;\n",
       "    }\n",
       "\n",
       "    .dataframe thead th {\n",
       "        text-align: right;\n",
       "    }\n",
       "</style>\n",
       "<table border=\"1\" class=\"dataframe\">\n",
       "  <thead>\n",
       "    <tr style=\"text-align: right;\">\n",
       "      <th></th>\n",
       "      <th>year</th>\n",
       "      <th>fatal_accidents</th>\n",
       "      <th>n_deaths</th>\n",
       "      <th>death_rate</th>\n",
       "    </tr>\n",
       "  </thead>\n",
       "  <tbody>\n",
       "    <tr>\n",
       "      <th>0</th>\n",
       "      <td>1976</td>\n",
       "      <td>24</td>\n",
       "      <td>734</td>\n",
       "      <td>0.19</td>\n",
       "    </tr>\n",
       "    <tr>\n",
       "      <th>1</th>\n",
       "      <td>1977</td>\n",
       "      <td>25</td>\n",
       "      <td>516</td>\n",
       "      <td>0.12</td>\n",
       "    </tr>\n",
       "    <tr>\n",
       "      <th>2</th>\n",
       "      <td>1978</td>\n",
       "      <td>31</td>\n",
       "      <td>754</td>\n",
       "      <td>0.15</td>\n",
       "    </tr>\n",
       "    <tr>\n",
       "      <th>3</th>\n",
       "      <td>1979</td>\n",
       "      <td>31</td>\n",
       "      <td>877</td>\n",
       "      <td>0.16</td>\n",
       "    </tr>\n",
       "    <tr>\n",
       "      <th>4</th>\n",
       "      <td>1980</td>\n",
       "      <td>22</td>\n",
       "      <td>814</td>\n",
       "      <td>0.14</td>\n",
       "    </tr>\n",
       "    <tr>\n",
       "      <th>5</th>\n",
       "      <td>1981</td>\n",
       "      <td>21</td>\n",
       "      <td>362</td>\n",
       "      <td>0.06</td>\n",
       "    </tr>\n",
       "    <tr>\n",
       "      <th>6</th>\n",
       "      <td>1982</td>\n",
       "      <td>26</td>\n",
       "      <td>764</td>\n",
       "      <td>0.13</td>\n",
       "    </tr>\n",
       "    <tr>\n",
       "      <th>7</th>\n",
       "      <td>1983</td>\n",
       "      <td>20</td>\n",
       "      <td>809</td>\n",
       "      <td>0.13</td>\n",
       "    </tr>\n",
       "    <tr>\n",
       "      <th>8</th>\n",
       "      <td>1984</td>\n",
       "      <td>16</td>\n",
       "      <td>223</td>\n",
       "      <td>0.03</td>\n",
       "    </tr>\n",
       "    <tr>\n",
       "      <th>9</th>\n",
       "      <td>1985</td>\n",
       "      <td>22</td>\n",
       "      <td>1066</td>\n",
       "      <td>0.15</td>\n",
       "    </tr>\n",
       "  </tbody>\n",
       "</table>\n",
       "</div>"
      ],
      "text/plain": [
       "   year  fatal_accidents  n_deaths  death_rate\n",
       "0  1976               24       734        0.19\n",
       "1  1977               25       516        0.12\n",
       "2  1978               31       754        0.15\n",
       "3  1979               31       877        0.16\n",
       "4  1980               22       814        0.14\n",
       "5  1981               21       362        0.06\n",
       "6  1982               26       764        0.13\n",
       "7  1983               20       809        0.13\n",
       "8  1984               16       223        0.03\n",
       "9  1985               22      1066        0.15"
      ]
     },
     "execution_count": 3,
     "metadata": {},
     "output_type": "execute_result"
    }
   ],
   "source": [
    "import pandas as pd\n",
    "from scipy.stats import gamma, poisson\n",
    "import matplotlib.pyplot as plt\n",
    "import numpy as np\n",
    "\n",
    "d = {'year':[i for i in range(1976, 1986)], 'fatal_accidents':[24,25,31,31,22,21,26,20,16,22],\n",
    "    'n_deaths':[734,516,754,877,814,362,764,809,223,1066], 'death_rate':[0.19,0.12,0.15,0.16,0.14,0.06,0.13,0.13,0.03,0.15]}\n",
    "df = pd.DataFrame(data = d)\n",
    "df"
   ]
  },
  {
   "cell_type": "markdown",
   "metadata": {},
   "source": [
    "**a.1)** Assume that the numbers of fatal accidents in each year are independent with a $Poisson(\\theta)$ distribution. Set a prior distribution for $\\theta$ and determine the posterior dsitribution based on the data from 1976 through 1985.\n",
    "\n",
    "**Answer:** Conjugated prior will be of the form $Gamma(\\alpha, \\beta)$. One way is to set $\\alpha = \\beta = \\epsilon \\simeq 0$, and consider the posterior as $Gamma(\\sum y_t, T)$, where $y_t$ is the number of fatal accidents in year $t$, and $T$ is the number of years in the sample, i.e.:"
   ]
  },
  {
   "cell_type": "code",
   "execution_count": 4,
   "metadata": {},
   "outputs": [
    {
     "name": "stdout",
     "output_type": "stream",
     "text": [
      "p(θ|y) ~ Gamma(238, 10)\n"
     ]
    },
    {
     "data": {
      "image/png": "[encoded data removed]",
      "text/plain": [
       "<Figure size 432x288 with 1 Axes>"
      ]
     },
     "metadata": {
      "needs_background": "light"
     },
     "output_type": "display_data"
    }
   ],
   "source": [
    "α = sum(df['fatal_accidents'])\n",
    "β =  df.shape[0]\n",
    "print(\"p(θ|y) ~ Gamma(\"+str(α)+\", \"+str(β)+\")\")\n",
    "\n",
    "# plotting the posteiors\n",
    "fig, ax = plt.subplots()\n",
    "x = np.linspace(15, 40, 100)\n",
    "ax.plot(x, gamma.pdf(x, a = α, scale = 1/β))\n",
    "ax.set_title(\"Porterior distribution p(θ|y) = Gamma(\"+str(α)+\", \"+str(β)+\")\")\n",
    "\n",
    "plt.show()       "
   ]
  },
  {
   "cell_type": "markdown",
   "metadata": {},
   "source": [
    "**a.2)** Under this model, give a $95\\%$ predictive interval for the number of fatal accidents in 1986. You can use the normal approximation to the gamma and Poisson or cumpute using simulation.\n",
    "\n",
    "**Answer:** Computing using simulation: $\\hat{y}$ is a draw from the predictive distribution, $p(\\hat{y}|y)$. We exclude from these simulations the smallar and higher values.\n",
    "    \n",
    "Repeat n times {\n",
    "* draw $\\theta_i$ from $p(\\theta|y)$\n",
    "* draw $\\hat{y}$ from $Poisson(\\theta_i)$"
   ]
  },
  {
   "cell_type": "code",
   "execution_count": 5,
   "metadata": {},
   "outputs": [
    {
     "name": "stdout",
     "output_type": "stream",
     "text": [
      "the 95% predictive interval for the n. of fatal accidents in 1986 is [14 35]\n"
     ]
    }
   ],
   "source": [
    "n = 1000\n",
    "thetas = [gamma.rvs(a = α, scale = 1/β) for i in range(n)]\n",
    "y1986 = [poisson.rvs(theta) for theta in thetas]\n",
    "y1986_95ci = np.sort(y1986)[[int(0.025*1000-1),int(0.975*1000)]]\n",
    "print(\"the 95% predictive interval for the n. of fatal accidents in 1986 is\", y1986_95ci)"
   ]
  },
  {
   "cell_type": "markdown",
   "metadata": {},
   "source": [
    "**b)** Do the same as in **a)**, but with and exposure in each year proportional to the number of passenger miles flown (passenger miles flows = 100.000.000 x death/death_rate), assuming that exposure in 1986 is $8 \\times 10^{11}$.\n",
    "\n",
    "**Answer:** Considering the same prior for $\\theta$, i.e., $p(\\theta) = Gamma(\\epsilon, \\epsilon)$. Let $E_t$ be the exposure at year $t$. The posterior distribution is\n",
    "\n",
    "$$p(\\theta|y, E) = Gamma(\\sum_{t = 1976}^{1985} y_t, \\sum_{t = 1976}^{1985} E_t)$$"
   ]
  },
  {
   "cell_type": "code",
   "execution_count": 6,
   "metadata": {},
   "outputs": [],
   "source": [
    "df['exposure'] = 1e8*df[\"n_deaths\"]/df[\"death_rate\"]\n",
    "α = sum(df['fatal_accidents'])\n",
    "β = sum(df['exposure'])"
   ]
  },
  {
   "cell_type": "code",
   "execution_count": 7,
   "metadata": {},
   "outputs": [
    {
     "data": {
      "image/png": "[encoded data removed]",
      "text/plain": [
       "<Figure size 432x288 with 1 Axes>"
      ]
     },
     "metadata": {
      "needs_background": "light"
     },
     "output_type": "display_data"
    }
   ],
   "source": [
    "# plotting the posteiors\n",
    "fig, ax = plt.subplots()\n",
    "x = np.linspace(15, 40, 100)/np.mean(df['exposure'])\n",
    "ax.plot(x, gamma.pdf(x, a = α, scale = 1/β))\n",
    "ax.set_title(\"p(θ|y) = Gamma(\"+str(α)+\", \"+str(β)+\")\")\n",
    "\n",
    "plt.show()    "
   ]
  },
  {
   "cell_type": "markdown",
   "metadata": {},
   "source": [
    "Computing $\\hat{y}$  using simulation:\n",
    "    \n",
    "Repeat n times {\n",
    "* draw $\\theta_i$ from $p(\\theta|y)$\n",
    "* draw $\\hat{y}$ from $Poisson(E_{1986}\\theta_i)$"
   ]
  },
  {
   "cell_type": "code",
   "execution_count": 8,
   "metadata": {
    "scrolled": true
   },
   "outputs": [
    {
     "name": "stdout",
     "output_type": "stream",
     "text": [
      "the 95% predictive interval for the n. of fatal accidents in 1986 is [22 46]\n"
     ]
    }
   ],
   "source": [
    "n = 1000\n",
    "thetas = [gamma.rvs(a = α, scale = 1/β) for i in range(n)]\n",
    "y1986 = [poisson.rvs(8e11*theta) for theta in thetas]\n",
    "y1986_95ci = np.sort(y1986)[[int(0.025*1000-1),int(0.975*1000)]]\n",
    "print(\"the 95% predictive interval for the n. of fatal accidents in 1986 is\", y1986_95ci)"
   ]
  },
  {
   "cell_type": "markdown",
   "metadata": {},
   "source": [
    "**c)** Repeat **a)**, but with 'passenger deaths' as $y$"
   ]
  },
  {
   "cell_type": "code",
   "execution_count": 9,
   "metadata": {},
   "outputs": [
    {
     "name": "stdout",
     "output_type": "stream",
     "text": [
      "p(θ|y) ~ Gamma(6919, 10)\n"
     ]
    },
    {
     "data": {
      "image/png": "[encoded data removed]",
      "text/plain": [
       "<Figure size 432x288 with 1 Axes>"
      ]
     },
     "metadata": {
      "needs_background": "light"
     },
     "output_type": "display_data"
    },
    {
     "name": "stdout",
     "output_type": "stream",
     "text": [
      "the 95% predictive interval for the n. of fatal accidents in 1986 is [644 752]\n"
     ]
    }
   ],
   "source": [
    "α = sum(df['n_deaths'])\n",
    "β =  df.shape[0]\n",
    "print(\"p(θ|y) ~ Gamma(\"+str(α)+\", \"+str(β)+\")\")\n",
    "\n",
    "# plotting the posteiors\n",
    "fig, ax = plt.subplots()\n",
    "x = np.linspace(600, 800, 300)\n",
    "ax.plot(x, gamma.pdf(x, a = α, scale = 1/β))\n",
    "ax.set_title(\"Porterior distribution p(θ|y) = Gamma(\"+str(α)+\", \"+str(β)+\")\")\n",
    "plt.show()\n",
    "\n",
    "# 95% predictive interval\n",
    "n = 1000\n",
    "thetas = [gamma.rvs(a = α, scale = 1/β) for i in range(n)]\n",
    "y1986 = [poisson.rvs(theta) for theta in thetas]\n",
    "y1986_95ci = np.sort(y1986)[[int(0.025*1000-1),int(0.975*1000)]]\n",
    "print(\"the 95% predictive interval for the n. of fatal accidents in 1986 is\", y1986_95ci)"
   ]
  },
  {
   "cell_type": "markdown",
   "metadata": {},
   "source": [
    "**d)** Repeat **b)**, but with 'passenger deaths' as $y$"
   ]
  },
  {
   "cell_type": "code",
   "execution_count": 10,
   "metadata": {},
   "outputs": [
    {
     "data": {
      "image/png": "[encoded data removed]",
      "text/plain": [
       "<Figure size 432x288 with 1 Axes>"
      ]
     },
     "metadata": {
      "needs_background": "light"
     },
     "output_type": "display_data"
    },
    {
     "name": "stdout",
     "output_type": "stream",
     "text": [
      "the 95% predictive interval for the n. of fatal accidents in 1986 is [ 905 1034]\n"
     ]
    }
   ],
   "source": [
    "α = sum(df['n_deaths'])\n",
    "β = sum(df['exposure'])\n",
    "\n",
    "# plotting the posteiors\n",
    "fig, ax = plt.subplots()\n",
    "x = np.linspace(600, 780, 1000)/np.mean(df['exposure'])\n",
    "ax.plot(x, gamma.pdf(x, a = α, scale = 1/β))\n",
    "ax.set_title(\"p(θ|y) = Gamma(\"+str(α)+\", \"+str(β)+\")\")\n",
    "\n",
    "plt.show() \n",
    "n = 1000\n",
    "thetas = [gamma.rvs(a = α, scale = 1/β) for i in range(n)]\n",
    "y1986 = [poisson.rvs(8e11*theta) for theta in thetas]\n",
    "y1986_95ci = np.sort(y1986)[[int(0.025*1000-1),int(0.975*1000)]]\n",
    "print(\"the 95% predictive interval for the n. of fatal accidents in 1986 is\", y1986_95ci)"
   ]
  },
  {
   "cell_type": "markdown",
   "metadata": {},
   "source": [
    "**e)** In which of the cases above does the Poisson model seem more or less reasonable? Why? Discuss based on general principles, without specific reference to the numbers in table 2.2.\n",
    "\n",
    "**Answer:** The models which includes overdispersion are intuitible reasonable, given that the more flights in place, the more fatal accidents may occour. But as time goes by, both technology and miles goes up (model for trend may be adequate). On the other hand, the Poisson models above seem more reasonable to number of accidents, because number of deaths depends on the number of passenger in the fatal crashers, so they are clustered (Poisson distribution assumes independe - while number of crashes are independent, the number of deaths are not, since they happen in the same accident)."
   ]
  },
  {
   "cell_type": "markdown",
   "metadata": {},
   "source": [
    "### Exercise 2.14: Algebra of the normal model\n",
    "**a)** Consider $y$, a single scalar observation from a normal distribution, with unkown mean $\\mu$ and known variance $\\sigma^2$. So\n",
    "\n",
    "$$p(y|\\theta) \\propto exp\\left(-\\frac{1}{2\\sigma^2}(y-\\theta)^2\\right),$$\n",
    "\n",
    "and a parametrization of a conjugated prior density is $\\theta \\sim N(\\mu_0, \\tau_0^2)$, so:\n",
    "\n",
    "$$p(\\theta) \\propto exp\\left(-\\frac{1}{2\\tau_0^2}(\\theta - \\mu_0)^2\\right).$$\n",
    "\n",
    "\n",
    "This yields the posterior density\n",
    "\n",
    "$$p(\\theta|y) \\propto exp\\left(\\frac{-1}{2}\\left(\\frac{(y-\\theta)^2}{\\sigma^2} + \\frac{(\\theta - \\mu_0)^2}{\\tau_0^2}\\right)\\right)$$\n",
    "\n",
    "which can be shown to be normal distribution $N(\\mu_i, \\tau_1^2)$ where \n",
    "\n",
    "\n",
    "\\begin{array}\n",
    "    $\\mu_1 = \\dfrac{\\dfrac{y}{\\sigma^2} + \\dfrac{\\mu_0}{\\tau_0^2}}{\\dfrac{1}{\\sigma^2} + \\dfrac{1}{\\tau_0^2}}; & \\dfrac{1}{\\tau_1^2} = \\dfrac{1}{\\sigma^2} + \\dfrac{1}{\\tau_0^2}\n",
    "\\end{array}\n",
    "\n",
    "in fact, note that:\n",
    "\n",
    "\\begin{array}\n",
    "$ \\dfrac{1}{\\tau_1^2} = \\dfrac{1}{\\sigma^2} + \\dfrac{1}{\\tau_0^2} = \\dfrac{\\tau_0^2 + \\sigma^2}{\\tau_0^2\\sigma^2}; & \\mu_1 = \\dfrac{\\dfrac{y}{\\sigma^2} + \\dfrac{\\mu_0}{\\tau_0^2}}{\\dfrac{1}{\\sigma^2} + \\dfrac{1}{\\tau_0^2}} = \\dfrac{\\sigma^2\\mu_0 + \\tau_0^2y}{\\sigma^2 + \\tau_0^2}\n",
    "\\end{array}\n",
    "\n",
    "Define as $A(\\theta)$ the term inside the posterior, which is a function of $\\theta$:\n",
    "\n",
    "\\begin{array}\n",
    "$A(\\theta) &= \\left(\\dfrac{(y-\\theta)^2}{\\sigma^2} + \\dfrac{(\\theta - \\mu_0)^2}{\\tau_0^2}\\right) &= \\dfrac{(y-\\theta)^2\\tau_0^2 + (\\theta - \\mu_0)^2\\sigma^2}{\\sigma^2\\tau_0^2}\\\\\n",
    "&& =\\dfrac{(y^2\\tau_0^2 + \\mu_0^2\\sigma^2) - 2\\theta(y\\tau_0^2 + \\mu_0\\sigma^2) + \\theta^2(\\tau_0^2 + \\sigma^2)}{\\sigma^2\\tau_0^2}\\\\\n",
    "&& = \\dfrac{\\tau_0^2 + \\sigma^2}{\\tau_0^2\\sigma^2}  \\left[\\theta^2- 2\\theta\\dfrac{y\\tau_0^2 + \\mu_0\\sigma^2}{\\tau_0^2 + \\sigma^2} + \\dfrac{y^2\\tau_0^2 + \\mu_0^2\\sigma^2}{\\tau_0^2 + \\sigma^2}\\right] \\\\\n",
    "&& = \\dfrac{1}{\\tau_1^2}\\left[\\theta^2 - 2\\theta\\mu_1 + \\dfrac{y^2\\tau_0^2 + \\mu_0^2\\sigma^2}{\\tau_0^2 + \\sigma^2}\\right]\n",
    "\\end{array}\n",
    "\n",
    "So\n",
    "\n",
    "$$p(\\theta|y) \\propto exp\\left(-\\dfrac{1}{2}A(\\theta)\\right)$$\n",
    "\n",
    "Consider the constant $B$ ( constant since the posterior $p(\\theta|y)$ depends only on $y$, and we assume the hyperparameters are known):\n",
    "\n",
    "$$B = exp\\left(-\\dfrac{1}{2\\tau_1^2}\\left(\\mu_1^2 - \\dfrac{y^2\\tau_0^2 + \\mu_0^2\\sigma^2}{\\tau_0^2 + \\sigma^2}\\right)\\right)$$\n",
    "\n",
    "Since B does not depend on $\\theta$, it follows that\n",
    "\n",
    "\\begin{array}\n",
    "$ p(\\theta|y) & \\propto B \\times exp\\left(-\\dfrac{1}{2}A(\\theta)\\right) \\\\\n",
    "& = exp\\left(\\dfrac{1}{\\tau_1^2} (\\theta^2 - 2\\theta\\mu_1 + \\mu_1^2)\\right) \\\\\n",
    "& = exp\\left(\\dfrac{1}{\\tau_1^2} (\\theta - \\mu_1)^2\\right)\n",
    "\\end{array}\n"
   ]
  }
 ],
 "metadata": {
  "kernelspec": {
   "display_name": "Python 3",
   "language": "python",
   "name": "python3"
  },
  "language_info": {
   "codemirror_mode": {
    "name": "ipython",
    "version": 3
   },
   "file_extension": ".py",
   "mimetype": "text/x-python",
   "name": "python",
   "nbconvert_exporter": "python",
   "pygments_lexer": "ipython3",
   "version": "3.8.3"
  }
 },
 "nbformat": 4,
 "nbformat_minor": 4
}
